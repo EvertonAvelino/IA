{
  "nbformat": 4,
  "nbformat_minor": 0,
  "metadata": {
    "colab": {
      "name": "trabalho_final_fdv.ipynb",
      "provenance": [],
      "include_colab_link": true
    },
    "kernelspec": {
      "name": "python3",
      "display_name": "Python 3"
    },
    "accelerator": "GPU"
  },
  "cells": [
    {
      "cell_type": "markdown",
      "metadata": {
        "id": "view-in-github",
        "colab_type": "text"
      },
      "source": [
        "<a href=\"https://colab.research.google.com/github/EvertonAvelino/IA/blob/master/trabalho_final_fdv.ipynb\" target=\"_parent\"><img src=\"https://colab.research.google.com/assets/colab-badge.svg\" alt=\"Open In Colab\"/></a>"
      ]
    },
    {
      "cell_type": "code",
      "metadata": {
        "id": "c9xlbKrLxV1j",
        "colab_type": "code",
        "colab": {}
      },
      "source": [
        "from keras.datasets import mnist\n",
        "import matplotlib.pyplot as plt\n",
        "import numpy as np\n",
        "import tensorflow.compat.v1 as tf\n",
        "tf.disable_v2_behavior()\n",
        "\n",
        "def plot_digit(image):\n",
        "    plt.imshow(image, cmap='gray')\n",
        "    plt.show()"
      ],
      "execution_count": 0,
      "outputs": []
    },
    {
      "cell_type": "code",
      "metadata": {
        "id": "Qmr7Lwy8xgGE",
        "colab_type": "code",
        "colab": {}
      },
      "source": [
        "class RegressaoLinear:\n",
        "    \n",
        "    def __init__(self, x_treinamento, y_treinamento, x_teste, y_teste):\n",
        "        \n",
        "        self._x_treinamento = x_treinamento\n",
        "        self._y_treinamento = y_treinamento\n",
        "        self._x_teste = x_teste\n",
        "        self._y_teste = y_teste\n",
        "        self._m = x_treinamento.shape[1] #shape[0] sao as linhas, shape[1] sao as colunas\n",
        "        self._alpha = 0.01\n",
        "        \n",
        "        # matrizes\n",
        "        self._W = np.random.randn(10,784) * 0.01 #multiplica num entre 0 e 1 por 0.01 para serem pequenos, dentro da sigmoid\n",
        "        self._B = np.zeros((10,1))\n",
        "        self._Y = np.zeros((10,m))\n",
        "        \n",
        "        print(labels.shape)\n",
        "        # index recebe o contador da itereacao, value recebe o valor do label (de 0 a 9)\n",
        "        for index, value in enumerate(labels):\n",
        "            self._Y[value][index] = 1 # coloca 1 no valor do label correspondente àquele exemplo, o restante 0\n",
        "        print(self._Y.shape) \n",
        "    \n",
        "    def h_teta(self, X):\n",
        "        return self._W.dot(X) + self._B \n",
        "    \n",
        "    \n",
        "    def retorna_pesos_do_digito(self, digito):\n",
        "        return self._W[digito, :]\n",
        "    \n",
        "    \n",
        "    def treinamento(self, iteracoes):\n",
        "        \n",
        "        lista_treinamento_classificados_corretamente = []\n",
        "        lista_teste_classificados_corretamente = []\n",
        "        \n",
        "        for i in range(iteracoes):\n",
        "            \n",
        "            A = self.h_teta(self._x_treinamento)\n",
        "            E = (A - self._Y)\n",
        "            self._W = self._W - self._alpha * (np.dot(E, self._x_treinamento.T) / self._m)\n",
        "            self._B = self._B - self._alpha * (np.sum(E, axis=1, keepdims=True) / self._m)\n",
        "            \n",
        "            if i % 100 == 0:\n",
        "                classificados_corretamente = np.sum(np.argmax(A, axis=0) == np.argmax(self._Y, axis=0))\n",
        "                lista_treinamento_classificados_corretamente.append((classificados_corretamente / self._m) * 100)\n",
        "                \n",
        "                Y_hat_teste = self.h_teta(images_teste)\n",
        "                teste_corretos = np.count_nonzero(np.argmax(Y_hat_teste, axis=0) == self._y_teste)\n",
        "                lista_teste_classificados_corretamente.append((teste_corretos)/len(self._y_teste) * 100)\n",
        "                \n",
        "                print('Linear -> classificados corretamente (treino): ', classificados_corretamente)\n",
        "                print('Linear -> classificados corretamente (teste): ', teste_corretos)\n",
        "        return lista_treinamento_classificados_corretamente, lista_teste_classificados_corretamente "
      ],
      "execution_count": 0,
      "outputs": []
    },
    {
      "cell_type": "markdown",
      "metadata": {
        "id": "oQ9aGy7EzSwt",
        "colab_type": "text"
      },
      "source": [
        "Na regressão logística abaixo você deve completar a função que retorna o valor da derivada da sigmoid e tamb;em o cálculo para atualizar os valores de w e b. Não é muito diferente do cálculo da regressão linear, apenas alguns passos a mais"
      ]
    },
    {
      "cell_type": "code",
      "metadata": {
        "id": "gh5K5bFHyByj",
        "colab_type": "code",
        "colab": {}
      },
      "source": [
        "class LogisticRegression:\n",
        "    \n",
        "    def __init__(self, x_train, y_train, x_test, y_test):\n",
        "\n",
        "        self._x_train = x_train\n",
        "        self._y_train = y_train\n",
        "        self._x_test = x_test\n",
        "        self._y_test = y_test\n",
        "        self._m = x_train.shape[1]\n",
        "        \n",
        "        self._W = np.random.randn(10, 784) * 0.01\n",
        "        self._B = np.zeros((10, 1))\n",
        "        self._Y = np.zeros((10, m))\n",
        "        self._alpha = 0.1\n",
        "\n",
        "        for index, value in enumerate(labels):\n",
        "            self._Y[value][index] = 1\n",
        "            \n",
        "    def sigmoid(self, Z):\n",
        "        return 1/(1 + np.exp(-Z))\n",
        "\n",
        "    def derivada_sigmoid(self, A):\n",
        "        return A * (1 - A)\n",
        "\n",
        "    def h_theta(self, X):\n",
        "        Z = self._W.dot(X) + self._B\n",
        "        return Z\n",
        "    \n",
        "    def g_h_teta(self, Z):\n",
        "        return self.sigmoid(Z)\n",
        "    \n",
        "    def retorna_pesos_do_digito(self, digit):\n",
        "        return self._W[digit, :]\n",
        "    \n",
        "\n",
        "    def treinamento(self, iterations):\n",
        "        classified_correctly_train_list = []\n",
        "        classified_correctly_test_list = []\n",
        "        \n",
        "        for i in range(iterations):\n",
        "\n",
        "            Z = self.h_theta(self._x_train)\n",
        "            A = self.g_h_teta(Z)\n",
        "            dA = self.derivada_sigmoid(A)\n",
        "            E = (A - self._Y)\n",
        "            self._W = self._W - self._alpha * (np.dot(np.multiply(E, dA), self._x_train.T)) / m\n",
        "            self._B = self._B - self._alpha * (np.sum(np.multiply(E, dA), axis=1, keepdims=True)) / m\n",
        "            \n",
        "            if i % 100 == 0:\n",
        "                classified_correctly = np.sum(np.argmax(A, axis=0) == np.argmax(self._Y, axis=0))\n",
        "                classified_correctly_train_list.append((classified_correctly / m) * 100)\n",
        "                \n",
        "                Y_hat_teste = self.h_theta(images_teste)\n",
        "                teste_corretos = np.count_nonzero(np.argmax(Y_hat_teste, axis=0) == self._y_test)\n",
        "                classified_correctly_test_list.append((teste_corretos)/len(self._y_test) * 100)\n",
        "                \n",
        "                print('Logística -> classificados corretamente (treino): ', classified_correctly)\n",
        "                print('Logística -> classificados corretamente (teste): ', teste_corretos)\n",
        "        return classified_correctly_train_list, classified_correctly_test_list   "
      ],
      "execution_count": 0,
      "outputs": []
    },
    {
      "cell_type": "code",
      "metadata": {
        "id": "qoUkYIf9xxZ9",
        "colab_type": "code",
        "outputId": "dc558ea0-9560-483d-bc12-3057f1680f0d",
        "colab": {
          "base_uri": "https://localhost:8080/",
          "height": 204
        }
      },
      "source": [
        "(x_train, y_train), (x_test, y_test) = mnist.load_data()\n",
        "\n",
        "m = 60000       # numero de imagens a serem treinadas\n",
        "\n",
        "images, labels = (x_train[0:m].reshape(m, 28*28) / 255, y_train[0:m])\n",
        "images = images.T\n",
        "\n",
        "images_teste = x_test.reshape(x_test.shape[0], 28*28) / 255\n",
        "images_teste = images_teste.T\n",
        "\n",
        "lin_reg = RegressaoLinear(images, labels, images_teste, y_test)\n",
        "log_reg = LogisticRegression(images, labels, images_teste, y_test)\n",
        "\n",
        "\n",
        "print('REGRESSÃO LINEAR...')\n",
        "percentage_lin_reg_train, percentage_lin_reg_test = lin_reg.treinamento(1000)\n",
        "print('')\n",
        "\n",
        "print('REGRESSÃO LOGÍSTICA...')\n",
        "percentage_log_reg_train, percentage_log_reg_test = log_reg.treinamento(1000)\n",
        "\n"
      ],
      "execution_count": 0,
      "outputs": [
        {
          "output_type": "stream",
          "text": [
            "(60000,)\n",
            "(10, 60000)\n",
            "REGRESSÃO LINEAR...\n",
            "Linear -> classificados corretamente (treino):  5916\n",
            "Linear -> classificados corretamente (teste):  1246\n",
            "Linear -> classificados corretamente (treino):  47761\n",
            "Linear -> classificados corretamente (teste):  8018\n",
            "Linear -> classificados corretamente (treino):  49433\n",
            "Linear -> classificados corretamente (teste):  8324\n",
            "Linear -> classificados corretamente (treino):  50037\n",
            "Linear -> classificados corretamente (teste):  8420\n"
          ],
          "name": "stdout"
        }
      ]
    },
    {
      "cell_type": "code",
      "metadata": {
        "id": "QVOuVk-dyA3s",
        "colab_type": "code",
        "colab": {
          "base_uri": "https://localhost:8080/",
          "height": 51
        },
        "outputId": "afc1ec9f-2ee7-42e9-d72e-55cb826d2d5d"
      },
      "source": [
        "print(\"img teste y_test: \", y_test.shape[0])\n",
        "print(\"img teste x_test: \", x_test.shape[0])"
      ],
      "execution_count": 58,
      "outputs": [
        {
          "output_type": "stream",
          "text": [
            "img teste y_test:  10000\n",
            "img teste x_test:  10000\n"
          ],
          "name": "stdout"
        }
      ]
    },
    {
      "cell_type": "code",
      "metadata": {
        "id": "Maoln5qQx5YF",
        "colab_type": "code",
        "outputId": "94563c92-dc0e-4338-d04e-4a48c0acd3c9",
        "colab": {
          "base_uri": "https://localhost:8080/",
          "height": 513
        }
      },
      "source": [
        "plot_digit(lin_reg.retorna_pesos_do_digito(8).reshape(28, 28))\n",
        "plot_digit(log_reg.retorna_pesos_do_digito(8).reshape(28, 28))"
      ],
      "execution_count": 56,
      "outputs": [
        {
          "output_type": "display_data",
          "data": {
            "image/png": "[encoded data removed]",
            "text/plain": [
              "<Figure size 432x288 with 1 Axes>"
            ]
          },
          "metadata": {
            "tags": []
          }
        },
        {
          "output_type": "display_data",
          "data": {
            "image/png": "[encoded data removed]",
            "text/plain": [
              "<Figure size 432x288 with 1 Axes>"
            ]
          },
          "metadata": {
            "tags": []
          }
        }
      ]
    },
    {
      "cell_type": "markdown",
      "metadata": {
        "id": "dZV4roBJzsho",
        "colab_type": "text"
      },
      "source": [
        "O trecho de código abaixo irá plotar as porcentagens de instâncias classificadas corretamente no **conjunto de treino** ao longo do processo de treinamento dos modelos."
      ]
    },
    {
      "cell_type": "code",
      "metadata": {
        "id": "i1OMURXhzr2k",
        "colab_type": "code",
        "outputId": "81e3b44d-2900-49ca-823a-a6717c614217",
        "colab": {
          "base_uri": "https://localhost:8080/",
          "height": 312
        }
      },
      "source": [
        "plt.xlabel('Iterações')\n",
        "plt.ylabel('Porcentagem classificada corretamente')\n",
        "plt.title('Erro de treinamento')\n",
        "plt.plot(percentage_lin_reg_train, 'b--.', label='Linear')\n",
        "plt.plot(percentage_log_reg_train, 'r-', label='Logistico')\n",
        "plt.legend(loc='best')"
      ],
      "execution_count": 0,
      "outputs": [
        {
          "output_type": "execute_result",
          "data": {
            "text/plain": [
              "<matplotlib.legend.Legend at 0x7f1789803a58>"
            ]
          },
          "metadata": {
            "tags": []
          },
          "execution_count": 12
        },
        {
          "output_type": "display_data",
          "data": {
            "image/png": "[encoded data removed]",
            "text/plain": [
              "<Figure size 432x288 with 1 Axes>"
            ]
          },
          "metadata": {
            "tags": []
          }
        }
      ]
    },
    {
      "cell_type": "markdown",
      "metadata": {
        "id": "EDMoQaHszw8I",
        "colab_type": "text"
      },
      "source": [
        "O trecho de código abaixo irá plotar as porcentagens de instâncias classificadas corretamente no **conjunto de teste** ao longo do processo de treinamento dos modelos."
      ]
    },
    {
      "cell_type": "code",
      "metadata": {
        "id": "5KdupG1O0Dwv",
        "colab_type": "code",
        "outputId": "9b67fc5d-b100-47be-9c41-de4794d967e3",
        "colab": {
          "base_uri": "https://localhost:8080/",
          "height": 312
        }
      },
      "source": [
        "plt.xlabel('Iterações')\n",
        "plt.ylabel('Porcentagem classificada corretamente')\n",
        "plt.title('Erro de teste')\n",
        "plt.plot(percentage_lin_reg_test, 'b--.', label='Linear')\n",
        "plt.plot(percentage_log_reg_test, 'r-', label='Logistico')\n",
        "plt.legend(loc='best')"
      ],
      "execution_count": 0,
      "outputs": [
        {
          "output_type": "execute_result",
          "data": {
            "text/plain": [
              "<matplotlib.legend.Legend at 0x7f178978cb38>"
            ]
          },
          "metadata": {
            "tags": []
          },
          "execution_count": 13
        },
        {
          "output_type": "display_data",
          "data": {
            "image/png": "[encoded data removed]",
            "text/plain": [
              "<Figure size 432x288 with 1 Axes>"
            ]
          },
          "metadata": {
            "tags": []
          }
        }
      ]
    }
  ]
}