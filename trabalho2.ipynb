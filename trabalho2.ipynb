{
  "nbformat": 4,
  "nbformat_minor": 0,
  "metadata": {
    "colab": {
      "name": "trabalho2.ipynb",
      "provenance": [],
      "collapsed_sections": []
    },
    "kernelspec": {
      "name": "python3",
      "display_name": "Python 3"
    }
  },
  "cells": [
    {
      "cell_type": "markdown",
      "metadata": {
        "id": "LnwkViuIlYKm",
        "colab_type": "text"
      },
      "source": [
        "Neste trabalho vocês devem completar o código inserindo a regressão logísitca. Depois faremos várias comparações.\n",
        "\n",
        "as etapas do trabalho são:\n",
        "\n",
        "\n",
        "1.   Criar a classe RegressaLogistica\n",
        "2.   Inserir o treinamento da regressão logísitca após o treinamento da regressão linear\n",
        "3.   Treinar com 100, 1000, 10000 e 60000 imagens, salvando o gidito representado pela rede e os gráficos da porcentagem de acerto. Depois você deve fazer um relatório descrevendo como foi a evolução da rede e as conclusões que você tirou a partir do que viu\n",
        "4. Com 10000 imagens, alterar os alphas e também o número que multiplica os pesos iniciais aleatórios da rede, e descrever o que você pode observar (se quiser utilizar imagens para comprovar seu raciocínio, melhor ainda)\n",
        "\n",
        "\n",
        "\n",
        "\n",
        "\n"
      ]
    },
    {
      "cell_type": "markdown",
      "metadata": {
        "id": "C0zoIujizJJW",
        "colab_type": "text"
      },
      "source": [
        ""
      ]
    },
    {
      "cell_type": "markdown",
      "metadata": {
        "id": "2AQriLaTDK9l",
        "colab_type": "text"
      },
      "source": [
        ""
      ]
    },
    {
      "cell_type": "code",
      "metadata": {
        "id": "p-6QDqdI-1wE",
        "colab_type": "code",
        "colab": {}
      },
      "source": [
        "from keras.datasets import mnist\n",
        "import matplotlib.pyplot as plt\n",
        "import numpy as np\n",
        "\n",
        "def plot_digit(image):\n",
        "    plt.imshow(image, cmap='gray')\n",
        "    plt.show()"
      ],
      "execution_count": 0,
      "outputs": []
    },
    {
      "cell_type": "code",
      "metadata": {
        "id": "-ZwY-lZRAMLr",
        "colab_type": "code",
        "colab": {}
      },
      "source": [
        "class RegressaoLinear:\n",
        "    \n",
        "    def __init__(self, x_treinamento, y_treinamento, x_teste, y_teste):\n",
        "        \n",
        "        self._x_treinamento = x_treinamento\n",
        "        self._y_treinamento = y_treinamento\n",
        "        self._x_teste = x_teste\n",
        "        self._y_teste = y_teste\n",
        "        self._m = x_treinamento.shape[1] #a matriz x_treinamento fornece nas colunas o numero de imagens utilizadas\n",
        "        self._alpha = 0.01 #tamanho do passo em direção ao gradiente descendente\n",
        "        \n",
        "        self._W = np.random.randn(10,784)*0.01 #este numero deve ser alterado no item 4\n",
        "        self._B = np.zeros((10,1))\n",
        "        self._Y = np.zeros((10,m))\n",
        "        \n",
        "        #coloca 1 nos valores do label correto de cada imagem\n",
        "        #a matriz Y vem com 10 digitos zerados, aqui a gente coloca 1 no valor correto\n",
        "        for index, value in enumerate(labels):\n",
        "            self._Y[value][index] = 1\n",
        "\n",
        "    #calcula a saida(resposta) atual da rede        \n",
        "    def h_teta(self, X):\n",
        "        return self._W.dot(X) + self._B \n",
        "\n",
        "    def retorna_peso_do_digito(self, digito):\n",
        "        return self._W[digito, :]\n",
        "\n",
        "\n",
        "    def treinamento(self, iteracoes):\n",
        "\n",
        "        lista_treinamento_classificados_corretamente = []\n",
        "        lista_teste_classificados_corretamente = []\n",
        "\n",
        "        for i in range(iteracoes):\n",
        "\n",
        "            A = self.h_teta(self._x_treinamento)\n",
        "            E = (A - self._Y)\n",
        "            self._W = self._W - self._alpha*(np.dot(E, self._x_treinamento.T) / self._m)\n",
        "            self._B = self._B - self._alpha*(np.sum(E, axis=1, keepdims=True) / self._m)\n",
        "\n",
        "            if i%100 == 0:\n",
        "                classificados_corretamente = np.sum(np.argmax(A, axis=0) == np.argmax(self._Y, axis=0))\n",
        "                lista_treinamento_classificados_corretamente.append((classificados_corretamente / self._m) * 100)\n",
        "\n",
        "                Y_hat_teste = self.h_teta(images_teste)\n",
        "                teste_corretos = np.count_nonzero(np.argmax(Y_hat_teste, axis=0) == self._y_teste)\n",
        "                lista_teste_classificados_corretamente.append((teste_corretos)/len(self._y_teste) * 100)\n",
        "\n",
        "                print('Classificados corretamente treino: ', classificados_corretamente, ', teste: ', teste_corretos)\n",
        "\n",
        "        return lista_treinamento_classificados_corretamente, lista_teste_classificados_corretamente         "
      ],
      "execution_count": 0,
      "outputs": []
    },
    {
      "cell_type": "code",
      "metadata": {
        "id": "ZEyTwRjdoatJ",
        "colab_type": "code",
        "colab": {}
      },
      "source": [
        "class RegressaoLogistica:\n",
        "    \n",
        "    def __init__(self, x_treinamento, y_treinamento, x_teste, y_teste):\n",
        "        \n",
        "        self._x_treinamento = x_treinamento\n",
        "        self._y_treinamento = y_treinamento\n",
        "        self._x_teste = x_teste\n",
        "        self._y_teste = y_teste\n",
        "        self._m = x_treinamento.shape[1] #a matriz x_treinamento fornece nas colunas o numero de imagens utilizadas\n",
        "        self._alpha = 0.01 #tamanho do passo em direção ao gradiente descendente\n",
        "        \n",
        "        self._W = np.random.randn(10,784)*0.01 #este numero deve ser alterado no item 4\n",
        "        self._B = np.zeros((10,1))\n",
        "        self._Y = np.zeros((10,m))\n",
        "        \n",
        "        #coloca 1 nos valores do label correto de cada imagem\n",
        "        #a matriz Y vem com 10 digitos zerados, aqui a gente coloca 1 no valor correto\n",
        "        for index, value in enumerate(labels):\n",
        "            self._Y[value][index] = 1\n",
        "\n",
        "    #calcula a saida(resposta) atual da rede        \n",
        "    def h_teta(self, X):\n",
        "        return self._W.dot(X) + self._B \n",
        "\n",
        "    def retorna_peso_do_digito(self, digito):\n",
        "        return self._W[digito, :]\n",
        "      \n",
        "    #definindo a sigmoid \n",
        "    def sigmoid(x):\n",
        "        return 1/(1 + np.exp(-x))\n",
        "\n",
        "\n",
        "    def treinamento(self, iteracoes):\n",
        "\n",
        "        lista_treinamento_classificados_corretamente = []\n",
        "        lista_teste_classificados_corretamente = []\n",
        "\n",
        "        for i in range(iteracoes):\n",
        "\n",
        "            A = self.h_teta(self._x_treinamento)\n",
        "            E = (A - self._Y)\n",
        "            Z = self.h_teta(1-self.h_teta) #passa os valores da funç~ao sigmoid pra uma variavel e depois multiplica\n",
        "            self._W = (self._W - self._alpha*(np.dot(E, self._x_treinamento.T) / self._m)) * Z\n",
        "            self._B = (self._B - self._alpha*(np.sum(E, axis=1, keepdims=True) / self._m)) * Z\n",
        "            \n",
        "\n",
        "            if i%100 == 0:\n",
        "                classificados_corretamente = np.sum(np.argmax(A, axis=0) == np.argmax(self._Y, axis=0))\n",
        "                lista_treinamento_classificados_corretamente.append((classificados_corretamente / self._m) * 100)\n",
        "\n",
        "                Y_hat_teste = self.h_teta(images_teste)\n",
        "                teste_corretos = np.count_nonzero(np.argmax(Y_hat_teste, axis=0) == self._y_teste)\n",
        "                lista_teste_classificados_corretamente.append((teste_corretos)/len(self._y_teste) * 100)\n",
        "\n",
        "                print('Classificados corretamente treino: ', classificados_corretamente, ', teste: ', teste_corretos)\n",
        "\n",
        "        return lista_treinamento_classificados_corretamente, lista_teste_classificados_corretamente \n",
        "      \n",
        "     "
      ],
      "execution_count": 0,
      "outputs": []
    },
    {
      "cell_type": "code",
      "metadata": {
        "id": "N0vncFcuJbrp",
        "colab_type": "code",
        "outputId": "a5280c36-a81f-45fe-b4e0-a47ae06b46c2",
        "colab": {
          "base_uri": "https://localhost:8080/",
          "height": 377
        }
      },
      "source": [
        "(x_train, y_train), (x_test, y_test) = mnist.load_data()\n",
        "\n",
        "m = 2000\n",
        "images, labels = (x_train[0:m].reshape(m, 28*28)/255, y_train[0:m])\n",
        "images = images.T\n",
        "\n",
        "images_teste = x_test.reshape(x_test.shape[0], 28*28) / 255\n",
        "images_teste = images_teste.T\n",
        "\n",
        "lin_reg = RegressaoLinear(images, labels, images_teste, y_test)\n",
        "percentage_lin_reg_train, percentage_lin_reg_test = lin_reg.treinamento(2000)\n",
        "\n",
        "#chamar o treino da regressão logistica\n",
        "#salvar também os resultados nas variáveis como a linear faz"
      ],
      "execution_count": 0,
      "outputs": [
        {
          "output_type": "stream",
          "text": [
            "Classificados corretamente treino:  250 , teste:  1288\n",
            "Classificados corretamente treino:  1633 , teste:  7856\n",
            "Classificados corretamente treino:  1683 , teste:  8100\n",
            "Classificados corretamente treino:  1711 , teste:  8187\n",
            "Classificados corretamente treino:  1722 , teste:  8243\n",
            "Classificados corretamente treino:  1737 , teste:  8282\n",
            "Classificados corretamente treino:  1747 , teste:  8312\n",
            "Classificados corretamente treino:  1758 , teste:  8329\n",
            "Classificados corretamente treino:  1762 , teste:  8338\n",
            "Classificados corretamente treino:  1766 , teste:  8340\n",
            "Classificados corretamente treino:  1769 , teste:  8352\n",
            "Classificados corretamente treino:  1776 , teste:  8356\n",
            "Classificados corretamente treino:  1776 , teste:  8357\n",
            "Classificados corretamente treino:  1780 , teste:  8351\n",
            "Classificados corretamente treino:  1782 , teste:  8348\n",
            "Classificados corretamente treino:  1784 , teste:  8342\n",
            "Classificados corretamente treino:  1790 , teste:  8345\n",
            "Classificados corretamente treino:  1792 , teste:  8343\n",
            "Classificados corretamente treino:  1793 , teste:  8338\n",
            "Classificados corretamente treino:  1794 , teste:  8335\n"
          ],
          "name": "stdout"
        }
      ]
    },
    {
      "cell_type": "code",
      "metadata": {
        "id": "3nIF3zTdLIHy",
        "colab_type": "code",
        "outputId": "74c1bdb9-86fe-4942-d067-9c7b13b7a79e",
        "colab": {
          "base_uri": "https://localhost:8080/",
          "height": 265
        }
      },
      "source": [
        "plot_digit(lin_reg.retorna_peso_do_digito(1).reshape(28,28))\n",
        "#fique a vontade para alterar o dígito que deseja visualizar na tela"
      ],
      "execution_count": 0,
      "outputs": [
        {
          "output_type": "display_data",
          "data": {
            "image/png": "[encoded data removed]",
            "text/plain": [
              "<Figure size 432x288 with 1 Axes>"
            ]
          },
          "metadata": {
            "tags": []
          }
        }
      ]
    },
    {
      "cell_type": "code",
      "metadata": {
        "id": "hotzKOxuktJz",
        "colab_type": "code",
        "outputId": "65b589fd-6b39-4659-dd12-e44a7e969ec9",
        "colab": {
          "base_uri": "https://localhost:8080/",
          "height": 313
        }
      },
      "source": [
        "plt.xlabel('Iterações')\n",
        "plt.ylabel('Porcentagem classificada corretamente')\n",
        "plt.title('Erro de treinamento')\n",
        "plt.plot(percentage_lin_reg_train, 'b--.', label='Linear')\n",
        "#plt.plot(percentage_log_reg_train, 'r-', label='Logistico') descomentar quando a regressão logísitca estiver pronta\n",
        "plt.legend(loc='best')"
      ],
      "execution_count": 0,
      "outputs": [
        {
          "output_type": "execute_result",
          "data": {
            "text/plain": [
              "<matplotlib.legend.Legend at 0x7f043322d828>"
            ]
          },
          "metadata": {
            "tags": []
          },
          "execution_count": 25
        },
        {
          "output_type": "display_data",
          "data": {
            "image/png": "[encoded data removed]",
            "text/plain": [
              "<Figure size 432x288 with 1 Axes>"
            ]
          },
          "metadata": {
            "tags": []
          }
        }
      ]
    },
    {
      "cell_type": "code",
      "metadata": {
        "id": "hvvEzKXPlSFh",
        "colab_type": "code",
        "outputId": "24134ed2-e62b-44dc-ad43-1d85a2c788fe",
        "colab": {
          "base_uri": "https://localhost:8080/",
          "height": 313
        }
      },
      "source": [
        "plt.xlabel('Iterações')\n",
        "plt.ylabel('Porcentagem classificada corretamente')\n",
        "plt.title('Erro de teste')\n",
        "plt.plot(percentage_lin_reg_test, 'b--.', label='Linear')\n",
        "#plt.plot(percentage_log_reg_test, 'r-', label='Logistico') descomentar quando a regressão logísitca estiver pronta\n",
        "plt.legend(loc='best')\n"
      ],
      "execution_count": 0,
      "outputs": [
        {
          "output_type": "execute_result",
          "data": {
            "text/plain": [
              "<matplotlib.legend.Legend at 0x7f04331c14a8>"
            ]
          },
          "metadata": {
            "tags": []
          },
          "execution_count": 26
        },
        {
          "output_type": "display_data",
          "data": {
            "image/png": "[encoded data removed]",
            "text/plain": [
              "<Figure size 432x288 with 1 Axes>"
            ]
          },
          "metadata": {
            "tags": []
          }
        }
      ]
    },
    {
      "cell_type": "code",
      "metadata": {
        "id": "dNUXQ36euddv",
        "colab_type": "code",
        "outputId": "1577a2e1-e5b0-4144-9c70-cca8029620ef",
        "colab": {
          "base_uri": "https://localhost:8080/",
          "height": 265
        }
      },
      "source": [
        "def sigmoid(Z):\n",
        "    return 1/(1 + np.exp(-Z))\n",
        "plt.plot(np.linspace(-10,10,100), sigmoid(np.linspace(-10,10,100)), lw=5)\n",
        "plt.show()"
      ],
      "execution_count": 0,
      "outputs": [
        {
          "output_type": "display_data",
          "data": {
            "image/png": "[encoded data removed]",
            "text/plain": [
              "<Figure size 432x288 with 1 Axes>"
            ]
          },
          "metadata": {
            "tags": []
          }
        }
      ]
    }
  ]
}